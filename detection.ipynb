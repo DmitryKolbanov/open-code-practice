{
 "cells": [
  {
   "cell_type": "markdown",
   "metadata": {},
   "source": [
    "Подключение библиотек. YOLO (You Only Look Once) - это алгоритм машинного обучения, который используется для обнаружения объектов на изображениях и видео."
   ]
  },
  {
   "cell_type": "code",
   "execution_count": null,
   "metadata": {},
   "outputs": [],
   "source": [
    "from ultralytics import YOLO\n",
    "import numpy as np\n",
    "import cv2"
   ]
  },
  {
   "cell_type": "markdown",
   "metadata": {},
   "source": [
    "Загрузка модели и детекция"
   ]
  },
  {
   "cell_type": "code",
   "execution_count": null,
   "metadata": {},
   "outputs": [],
   "source": [
    "# Загружаем модель YOLOv8x\n",
    "model = YOLO(\"yolov8x.pt\")\n",
    "\n",
    "# Загружаем изображение\n",
    "original_image = cv2.imread(\"test_img.jpg\")\n",
    "\n",
    "# Выполняем детекцию\n",
    "results = model.predict(original_image, classes=[0], conf=0.2, iou=0.7)\n",
    "# classes=[0] - распознавание объектов с классом person"
   ]
  },
  {
   "cell_type": "markdown",
   "metadata": {},
   "source": [
    "Задание 1.\n",
    "\n",
    "Необходимо распознать всех людей на изображении, отобразить их описывающим прямоугольником.\n",
    "\n",
    "Посчитать их количество, отобразить на изображении полученное значение."
   ]
  },
  {
   "cell_type": "code",
   "execution_count": null,
   "metadata": {},
   "outputs": [],
   "source": [
    "image = original_image.copy()\n",
    "people = []\n",
    "\n",
    "for detection in results[0].boxes.xyxy:  \n",
    "        x1, y1, x2, y2 = detection.cpu().numpy().astype(int) \n",
    "        center_x = (x1 + x2) // 2\n",
    "        center_y = (y1 + y2) // 2\n",
    "        people.append([x1, y1, x2, y2, center_x, center_y])   \n",
    "        cv2.rectangle(image, (x1, y1), (x2, y2), (0, 255, 0), 2)\n",
    "\n",
    "cv2.putText(image, f'People: {len(results[0])}', (10, 30), cv2.FONT_HERSHEY_SIMPLEX, 1, (0,255, 0), 2)"
   ]
  },
  {
   "cell_type": "code",
   "execution_count": null,
   "metadata": {},
   "outputs": [],
   "source": [
    "cv2.imshow(\"Результат\", image)\n",
    "cv2.waitKey(0)"
   ]
  },
  {
   "cell_type": "markdown",
   "metadata": {},
   "source": [
    "Задание 2\n",
    "\n",
    "Определить наличие группы людей и отобразить её описывающим прямоугольником со значением количества людей в группе.\n",
    "\n",
    "Группа - люди, расположенные на расстоянии менее 100 пикселей между центрами описывающих рамок"
   ]
  },
  {
   "cell_type": "markdown",
   "metadata": {},
   "source": [
    "Определяем людей по группам"
   ]
  },
  {
   "cell_type": "code",
   "execution_count": null,
   "metadata": {},
   "outputs": [],
   "source": [
    "groups = []\n",
    "\n",
    "for person in people:\n",
    "    \n",
    "    # Проверяем, есть ли группа, в которую можно добавить человека\n",
    "    found_group = False\n",
    "    for group in groups:\n",
    "        for person_in_group in group:\n",
    "            # Расстояние между центрами\n",
    "            distance = np.sqrt((person[4] - person_in_group[4])**2 + (person[5] - person_in_group[5])**2)\n",
    "            # Если расстояние меньше 100 пикселей, добавляем человека к группе\n",
    "            if distance < 100:\n",
    "                group.append(person)\n",
    "                found_group = True\n",
    "                break\n",
    "            if found_group:\n",
    "                break\n",
    "       \n",
    "    # Если группа не найдена, создаем новую группу\n",
    "    if not found_group:\n",
    "        groups.append([person])     "
   ]
  },
  {
   "cell_type": "markdown",
   "metadata": {},
   "source": [
    "Добавляем прямоугольники и надписи"
   ]
  },
  {
   "cell_type": "code",
   "execution_count": null,
   "metadata": {},
   "outputs": [],
   "source": [
    "image = original_image.copy()\n",
    "\n",
    "for group in groups:\n",
    "    if len(group) > 1:\n",
    "        x1, y1 = 10**10, 10**10\n",
    "        x2, y2 = 0, 0\n",
    "        for person in group:\n",
    "            cur_x1, cur_y1, cur_x2, cur_y2 = person[:4]\n",
    "            if cur_x1 < x1:\n",
    "                x1 = cur_x1\n",
    "            if cur_y1 < y1:\n",
    "                y1 = cur_y1\n",
    "            if cur_x2 > x2:\n",
    "                x2 = cur_x2\n",
    "            if cur_y2 > y2:\n",
    "                y2 = cur_y2\n",
    "        cv2.rectangle(image, (x1, y1), (x2, y2), (0, 255, 0), 2) \n",
    "        cv2.putText(image, f'People: {len(group)}', (x1, y1 - 10), cv2.FONT_HERSHEY_SIMPLEX, 0.5, (0,255, 0), 2)"
   ]
  },
  {
   "cell_type": "code",
   "execution_count": null,
   "metadata": {},
   "outputs": [],
   "source": [
    "cv2.imshow(\"Результат\", image)\n",
    "cv2.waitKey(0)"
   ]
  }
 ],
 "metadata": {
  "language_info": {
   "name": "python"
  }
 },
 "nbformat": 4,
 "nbformat_minor": 2
}
