{
 "cells": [
  {
   "cell_type": "markdown",
   "metadata": {},
   "source": [
    "Подключение библиотек. YOLO (You Only Look Once) - это алгоритм машинного обучения, который используется для обнаружения объектов на изображениях и видео."
   ]
  },
  {
   "cell_type": "code",
   "execution_count": 1,
   "metadata": {},
   "outputs": [],
   "source": [
    "from ultralytics import YOLO\n",
    "import numpy as np\n",
    "import cv2"
   ]
  },
  {
   "cell_type": "markdown",
   "metadata": {},
   "source": [
    "Загрузка модели и детекция"
   ]
  },
  {
   "cell_type": "code",
   "execution_count": 2,
   "metadata": {},
   "outputs": [
    {
     "name": "stdout",
     "output_type": "stream",
     "text": [
      "Downloading https://github.com/ultralytics/assets/releases/download/v8.2.0/yolov8x.pt to 'yolov8x.pt'...\n"
     ]
    },
    {
     "name": "stderr",
     "output_type": "stream",
     "text": [
      "100%|██████████| 131M/131M [00:12<00:00, 11.4MB/s] \n"
     ]
    },
    {
     "name": "stdout",
     "output_type": "stream",
     "text": [
      "\n",
      "0: 384x640 7 persons, 2514.4ms\n",
      "Speed: 10.5ms preprocess, 2514.4ms inference, 35.7ms postprocess per image at shape (1, 3, 384, 640)\n"
     ]
    }
   ],
   "source": [
    "# Загружаем модель YOLOv8x\n",
    "model = YOLO(\"yolov8x.pt\")\n",
    "\n",
    "# Загружаем изображение\n",
    "original_image = cv2.imread(\"test_img.jpg\")\n",
    "\n",
    "# Выполняем детекцию\n",
    "results = model.predict(original_image, classes=[0], conf=0.2, iou=0.7)\n",
    "# classes=[0] - распознавание объектов с классом person"
   ]
  },
  {
   "cell_type": "markdown",
   "metadata": {},
   "source": [
    "Задание 1.\n",
    "\n",
    "Необходимо распознать всех людей на изображении, отобразить их описывающим прямоугольником.\n",
    "\n",
    "Посчитать их количество, отобразить на изображении полученное значение."
   ]
  },
  {
   "cell_type": "code",
   "execution_count": null,
   "metadata": {},
   "outputs": [],
   "source": [
    "image = original_image.copy()\n",
    "people = []\n",
    "\n",
    "for detection in results[0].boxes.xyxy:  \n",
    "        x1, y1, x2, y2 = detection.cpu().numpy().astype(int) \n",
    "        center_x = (x1 + x2) // 2\n",
    "        center_y = (y1 + y2) // 2\n",
    "        people.append([x1, y1, x2, y2, center_x, center_y])   \n",
    "        cv2.rectangle(image, (x1, y1), (x2, y2), (0, 255, 0), 2)\n",
    "\n",
    "cv2.putText(image, f'People: {len(results[0])}', (10, 30), cv2.FONT_HERSHEY_SIMPLEX, 1, (0,255, 0), 2)"
   ]
  },
  {
   "cell_type": "code",
   "execution_count": 4,
   "metadata": {},
   "outputs": [
    {
     "data": {
      "text/plain": [
       "-1"
      ]
     },
     "execution_count": 4,
     "metadata": {},
     "output_type": "execute_result"
    }
   ],
   "source": [
    "cv2.imshow(\"Результат\", image)\n",
    "cv2.waitKey(0)"
   ]
  },
  {
   "cell_type": "markdown",
   "metadata": {},
   "source": [
    "Задание 2\n",
    "\n",
    "Определить наличие группы людей и отобразить её описывающим прямоугольником со значением количества людей в группе.\n",
    "\n",
    "Группа - люди, расположенные на расстоянии менее 100 пикселей между центрами описывающих рамок"
   ]
  },
  {
   "cell_type": "markdown",
   "metadata": {},
   "source": [
    "Определяем людей по группам"
   ]
  },
  {
   "cell_type": "code",
   "execution_count": 5,
   "metadata": {},
   "outputs": [],
   "source": [
    "groups = []\n",
    "\n",
    "for person in people:\n",
    "    \n",
    "    # Проверяем, есть ли группа, в которую можно добавить человека\n",
    "    found_group = False\n",
    "    for group in groups:\n",
    "        for person_in_group in group:\n",
    "            # Расстояние между центрами\n",
    "            distance = np.sqrt((person[4] - person_in_group[4])**2 + (person[5] - person_in_group[5])**2)\n",
    "            # Если расстояние меньше 100 пикселей, добавляем человека к группе\n",
    "            if distance < 100:\n",
    "                group.append(person)\n",
    "                found_group = True\n",
    "                break\n",
    "            if found_group:\n",
    "                break\n",
    "       \n",
    "    # Если группа не найдена, создаем новую группу\n",
    "    if not found_group:\n",
    "        groups.append([person])     "
   ]
  },
  {
   "cell_type": "markdown",
   "metadata": {},
   "source": [
    "Добавляем прямоугольники и надписи"
   ]
  },
  {
   "cell_type": "code",
   "execution_count": 6,
   "metadata": {},
   "outputs": [],
   "source": [
    "image = original_image.copy()\n",
    "\n",
    "for group in groups:\n",
    "    if len(group) > 1:\n",
    "        x1, y1 = 10**10, 10**10\n",
    "        x2, y2 = 0, 0\n",
    "        for person in group:\n",
    "            cur_x1, cur_y1, cur_x2, cur_y2 = person[:4]\n",
    "            if cur_x1 < x1:\n",
    "                x1 = cur_x1\n",
    "            if cur_y1 < y1:\n",
    "                y1 = cur_y1\n",
    "            if cur_x2 > x2:\n",
    "                x2 = cur_x2\n",
    "            if cur_y2 > y2:\n",
    "                y2 = cur_y2\n",
    "        cv2.rectangle(image, (x1, y1), (x2, y2), (0, 255, 0), 2) \n",
    "        cv2.putText(image, f'People: {len(group)}', (x1, y1 - 10), cv2.FONT_HERSHEY_SIMPLEX, 0.5, (0,255, 0), 2)"
   ]
  },
  {
   "cell_type": "code",
   "execution_count": 7,
   "metadata": {},
   "outputs": [
    {
     "data": {
      "text/plain": [
       "-1"
      ]
     },
     "execution_count": 7,
     "metadata": {},
     "output_type": "execute_result"
    }
   ],
   "source": [
    "cv2.imshow(\"Результат\", image)\n",
    "cv2.waitKey(0)"
   ]
  },
  {
   "cell_type": "markdown",
   "metadata": {},
   "source": [
    "Задание 3\n",
    "\n",
    "Определить сотрудников в каске и без каски, отобразить их на изображении с указанием их количества."
   ]
  },
  {
   "cell_type": "code",
   "execution_count": null,
   "metadata": {},
   "outputs": [],
   "source": [
    "image = original_image.copy()\n",
    "\n",
    "helmet_count = 0\n",
    "no_helmet_count = 0\n",
    "# Цветовые модели HSV\n",
    "hsv_orange_lower = np.array([10, 100, 100], dtype=\"uint8\")\n",
    "hsv_orange_upper = np.array([25, 255, 255], dtype=\"uint8\")\n",
    "\n",
    "hsv_green_lower = np.array([40, 50, 50], dtype=\"uint8\")\n",
    "hsv_green_upper = np.array([80, 255, 255], dtype=\"uint8\")\n",
    "\n",
    "# Проходим по каждому человеку\n",
    "for person in people:\n",
    "    x1, y1, x2, y2 = person[:4]\n",
    "    # Вырезаем область вокруг человека\n",
    "    person_roi = image[y1:int(y1 + (y2 - y1) / 3), x1:x2]\n",
    "    \n",
    "    # Преобразуем изображение в HSV \n",
    "    hsv = cv2.cvtColor(person_roi, cv2.COLOR_BGR2HSV)\n",
    "    \n",
    "    # Создаем маски для оранжевого и зеленого цвета\n",
    "    mask_orange = cv2.inRange(hsv, hsv_orange_lower, hsv_orange_upper)\n",
    "    mask_green = cv2.inRange(hsv, hsv_green_lower, hsv_green_upper)\n",
    "    \n",
    "    # Проверяем наличие оранжевого или зеленого пятна\n",
    "    has_helmet = np.sum(mask_orange) > 1000 or np.sum(mask_green) > 1000\n",
    "\n",
    "    if has_helmet:\n",
    "        helmet_count += 1\n",
    "        cv2.rectangle(image, (x1, y1), (x2, y2), (0, 255, 0), 2)\n",
    "    else:\n",
    "        no_helmet_count += 1\n",
    "        cv2.rectangle(image, (x1, y1), (x2, y2), (0, 0, 255), 2)\n",
    "\n",
    "cv2.putText(image, f'Wearing a helmet: {helmet_count}', (10, 30), cv2.FONT_HERSHEY_SIMPLEX, 1, (0,255, 0), 2)\n",
    "cv2.putText(image, f'Without a helmet: {no_helmet_count}', (10, 60), cv2.FONT_HERSHEY_SIMPLEX, 1, (0, 0, 255), 2)\n",
    "\n"
   ]
  },
  {
   "cell_type": "code",
   "execution_count": 33,
   "metadata": {},
   "outputs": [],
   "source": [
    "cv2.imshow('Result', image)\n",
    "cv2.waitKey(0)\n",
    "cv2.destroyAllWindows()"
   ]
  }
 ],
 "metadata": {
  "kernelspec": {
   "display_name": "Python 3",
   "language": "python",
   "name": "python3"
  },
  "language_info": {
   "codemirror_mode": {
    "name": "ipython",
    "version": 3
   },
   "file_extension": ".py",
   "mimetype": "text/x-python",
   "name": "python",
   "nbconvert_exporter": "python",
   "pygments_lexer": "ipython3",
   "version": "3.11.3"
  }
 },
 "nbformat": 4,
 "nbformat_minor": 2
}
