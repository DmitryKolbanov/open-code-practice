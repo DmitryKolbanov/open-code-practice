{
 "cells": [
  {
   "cell_type": "code",
   "execution_count": 45,
   "metadata": {},
   "outputs": [],
   "source": [
    "from ultralytics import YOLO\n",
    "import numpy as np\n",
    "import cv2\n",
    "from collections import defaultdict"
   ]
  },
  {
   "cell_type": "code",
   "execution_count": 46,
   "metadata": {},
   "outputs": [],
   "source": [
    "model = YOLO(\"yolov8x.pt\")\n",
    "\n",
    "video = cv2.VideoCapture(\"test_video.mp4\")\n",
    "width = int(video.get(cv2.CAP_PROP_FRAME_WIDTH))\n",
    "height = int(video.get(cv2.CAP_PROP_FRAME_HEIGHT))\n",
    "\n",
    "# Цветовые модели HSV\n",
    "hsv_orange_lower = np.array([10, 100, 100], dtype=\"uint8\")\n",
    "hsv_orange_upper = np.array([25, 255, 255], dtype=\"uint8\")\n",
    "hsv_green_lower = np.array([40, 50, 50], dtype=\"uint8\")\n",
    "hsv_green_upper = np.array([80, 255, 255], dtype=\"uint8\")\n",
    "\n",
    "# Создание видеозаписи\n",
    "fourcc = cv2.VideoWriter_fourcc(*'XVID')\n",
    "writer = cv2.VideoWriter('output.mp4', fourcc, 20.0, (width, height))\n",
    "\n",
    "# Хранение траекторий в виде {1: [(10;20), (11;20), ...], ...}\n",
    "track_history = defaultdict(lambda: [])\n",
    "   "
   ]
  },
  {
   "cell_type": "code",
   "execution_count": 47,
   "metadata": {},
   "outputs": [],
   "source": [
    "def person_has_helmet(det, frame):\n",
    "    x1, y1, x2, y2 = det\n",
    "    person_roi = frame[y1:int(y1 + (y2 - y1) / 3), x1:x2]  \n",
    "    hsv = cv2.cvtColor(person_roi, cv2.COLOR_BGR2HSV)  \n",
    "    mask_orange = cv2.inRange(hsv, hsv_orange_lower, hsv_orange_upper)\n",
    "    mask_green = cv2.inRange(hsv, hsv_green_lower, hsv_green_upper)     \n",
    "    return np.sum(mask_orange) > 100 or np.sum(mask_green) > 100"
   ]
  },
  {
   "cell_type": "code",
   "execution_count": 48,
   "metadata": {},
   "outputs": [
    {
     "name": "stdout",
     "output_type": "stream",
     "text": [
      "\n",
      "0: 384x640 4 persons, 2359.8ms\n",
      "Speed: 3.0ms preprocess, 2359.8ms inference, 4.0ms postprocess per image at shape (1, 3, 384, 640)\n",
      "\n",
      "0: 384x640 4 persons, 2324.8ms\n",
      "Speed: 8.0ms preprocess, 2324.8ms inference, 4.0ms postprocess per image at shape (1, 3, 384, 640)\n",
      "\n",
      "0: 384x640 4 persons, 2298.8ms\n",
      "Speed: 2.0ms preprocess, 2298.8ms inference, 2.0ms postprocess per image at shape (1, 3, 384, 640)\n",
      "\n",
      "0: 384x640 4 persons, 2285.8ms\n",
      "Speed: 3.0ms preprocess, 2285.8ms inference, 3.0ms postprocess per image at shape (1, 3, 384, 640)\n",
      "\n",
      "0: 384x640 5 persons, 2274.9ms\n",
      "Speed: 3.0ms preprocess, 2274.9ms inference, 2.0ms postprocess per image at shape (1, 3, 384, 640)\n",
      "\n",
      "0: 384x640 5 persons, 2261.0ms\n",
      "Speed: 4.0ms preprocess, 2261.0ms inference, 3.0ms postprocess per image at shape (1, 3, 384, 640)\n",
      "\n",
      "0: 384x640 5 persons, 2272.9ms\n",
      "Speed: 3.0ms preprocess, 2272.9ms inference, 3.0ms postprocess per image at shape (1, 3, 384, 640)\n",
      "\n",
      "0: 384x640 5 persons, 2477.9ms\n",
      "Speed: 4.0ms preprocess, 2477.9ms inference, 3.0ms postprocess per image at shape (1, 3, 384, 640)\n",
      "\n",
      "0: 384x640 4 persons, 2301.1ms\n",
      "Speed: 3.0ms preprocess, 2301.1ms inference, 3.0ms postprocess per image at shape (1, 3, 384, 640)\n"
     ]
    }
   ],
   "source": [
    "while(video.isOpened()):\n",
    "    ret, frame = video.read()   \n",
    "    if not ret:\n",
    "        break\n",
    "\n",
    "    results = model.track(frame, persist=True, conf=0.2, classes=[0])\n",
    "        \n",
    "    detections = results[0].boxes.xyxy.cpu().numpy().astype(int)\n",
    "    track_ids = results[0].boxes.id.int().cpu().tolist()\n",
    "\n",
    "    # наличие/отсутствие шлема у каждого обнаруженного объекта\n",
    "    no_helmet = [not person_has_helmet(det, frame) for det in detections]\n",
    "        \n",
    "    # индексы людей без шлема    \n",
    "    no_helmet_track_ids = [i for i, not_has_helmet in enumerate(no_helmet) if not_has_helmet]\n",
    "\n",
    "    # рисование прямоугольников с индексами\n",
    "    for index, det in enumerate(detections):\n",
    "        x1, y1, x2, y2 = det\n",
    "        if index in no_helmet_track_ids:\n",
    "            cv2.rectangle(frame, (x1, y1), (x2, y2), (0, 0, 255), 2)\n",
    "            cv2.putText(frame, f\"ID: {index + 1}\", (x1, y1 - 10), cv2.FONT_HERSHEY_SIMPLEX, 0.5, (0, 0, 255), 2)\n",
    "        else:\n",
    "            cv2.rectangle(frame, (x1, y1), (x2, y2), (0, 255, 0), 2)\n",
    "            cv2.putText(frame, f\"ID: {index + 1}\", (x1, y1 - 10), cv2.FONT_HERSHEY_SIMPLEX, 0.5, (0, 255, 0), 2)\n",
    "\n",
    "    # рисование ломаных \n",
    "    for index in no_helmet_track_ids:\n",
    "        x1, y1, x2, y2 = detections[index]\n",
    "        x = (x1 + x2) // 2\n",
    "        y = (y1 + y2) // 2\n",
    "        track = track_history[index]\n",
    "        track.append((x, y))\n",
    "        if len(track) > 100: # храниться до 100 последних значений \n",
    "            track.pop(0)\n",
    "        points = np.hstack(track).astype(np.int32).reshape((-1, 1, 2))\n",
    "        cv2.polylines(frame, [points], isClosed=False, color=(0, 0, 255), thickness=4)\n",
    "\n",
    "    cv2.putText(frame, f'People: {len(detections)}', (10, 30), cv2.FONT_HERSHEY_SIMPLEX, 1, (0, 255, 0), 2)\n",
    "    cv2.imshow(\"Video\", frame)\n",
    "    writer.write(frame)\n",
    "    \n",
    "    if cv2.waitKey(1) & 0xFF == ord('q'):\n",
    "        break\n",
    "\n",
    "video.release()\n",
    "writer.release()\n",
    "cv2.destroyAllWindows()\n"
   ]
  }
 ],
 "metadata": {
  "kernelspec": {
   "display_name": "Python 3",
   "language": "python",
   "name": "python3"
  },
  "language_info": {
   "codemirror_mode": {
    "name": "ipython",
    "version": 3
   },
   "file_extension": ".py",
   "mimetype": "text/x-python",
   "name": "python",
   "nbconvert_exporter": "python",
   "pygments_lexer": "ipython3",
   "version": "3.11.3"
  }
 },
 "nbformat": 4,
 "nbformat_minor": 2
}
