{
 "cells": [
  {
   "cell_type": "markdown",
   "metadata": {},
   "source": [
    "Подключение библиотек. YOLO (You Only Look Once) - это алгоритм машинного обучения, который используется для обнаружения объектов на изображениях и видео."
   ]
  },
  {
   "cell_type": "code",
   "execution_count": 7,
   "metadata": {},
   "outputs": [],
   "source": [
    "from ultralytics import YOLO\n",
    "import numpy as np\n",
    "import cv2"
   ]
  },
  {
   "cell_type": "markdown",
   "metadata": {},
   "source": [
    "Загрузка модели и детекция"
   ]
  },
  {
   "cell_type": "code",
   "execution_count": 10,
   "metadata": {},
   "outputs": [],
   "source": [
    "# Загружаем модель YOLOv8x\n",
    "model = YOLO(\"yolov8x.pt\")\n",
    "\n",
    "# Загружаем видео\n",
    "video = cv2.VideoCapture(\"test_video.mp4\")\n",
    "\n",
    "# Инициализация счетчика ID для трекинга\n",
    "frame_count = 0\n",
    "track_ids = {}\n",
    "   "
   ]
  },
  {
   "cell_type": "code",
   "execution_count": 11,
   "metadata": {},
   "outputs": [
    {
     "name": "stdout",
     "output_type": "stream",
     "text": [
      "\n",
      "0: 384x640 7 persons, 1765.9ms\n",
      "Speed: 2.0ms preprocess, 1765.9ms inference, 2.0ms postprocess per image at shape (1, 3, 384, 640)\n",
      "\n",
      "0: 384x640 6 persons, 1757.6ms\n",
      "Speed: 2.0ms preprocess, 1757.6ms inference, 2.0ms postprocess per image at shape (1, 3, 384, 640)\n",
      "\n",
      "0: 384x640 7 persons, 1734.6ms\n",
      "Speed: 2.0ms preprocess, 1734.6ms inference, 2.0ms postprocess per image at shape (1, 3, 384, 640)\n",
      "\n",
      "0: 384x640 9 persons, 1742.1ms\n",
      "Speed: 2.0ms preprocess, 1742.1ms inference, 1.0ms postprocess per image at shape (1, 3, 384, 640)\n",
      "\n",
      "0: 384x640 7 persons, 1745.6ms\n",
      "Speed: 2.0ms preprocess, 1745.6ms inference, 2.0ms postprocess per image at shape (1, 3, 384, 640)\n",
      "\n",
      "0: 384x640 7 persons, 1732.8ms\n",
      "Speed: 2.0ms preprocess, 1732.8ms inference, 2.0ms postprocess per image at shape (1, 3, 384, 640)\n",
      "\n",
      "0: 384x640 7 persons, 1736.6ms\n",
      "Speed: 2.0ms preprocess, 1736.6ms inference, 2.0ms postprocess per image at shape (1, 3, 384, 640)\n",
      "\n",
      "0: 384x640 7 persons, 1731.6ms\n",
      "Speed: 2.0ms preprocess, 1731.6ms inference, 2.0ms postprocess per image at shape (1, 3, 384, 640)\n"
     ]
    }
   ],
   "source": [
    "# Цикл по кадрам видео\n",
    "while(video.isOpened()):\n",
    "    # Читаем кадр\n",
    "    ret, frame = video.read()\n",
    "    if not ret:\n",
    "        break\n",
    "\n",
    "    # Выполняем детекцию\n",
    "    results = model.predict(frame, classes=[0], conf=0.2, iou=0.7)\n",
    "\n",
    "    # Получаем координаты распознанных людей\n",
    "    detections = results[0].boxes.xyxy.cpu().numpy().astype(int)\n",
    "\n",
    "    # Обновляем словарь track_ids\n",
    "    for det in detections:\n",
    "        x1, y1, x2, y2 = det\n",
    "        center_x = (x1 + x2) // 2\n",
    "        center_y = (y1 + y2) // 2\n",
    "\n",
    "        # Проверяем, есть ли уже ID для этого человека\n",
    "        found_id = False\n",
    "        for id, (prev_x, prev_y) in track_ids.items():\n",
    "            # Проверяем расстояние между центрами\n",
    "            distance = np.sqrt((center_x - prev_x)**2 + (center_y - prev_y)**2)\n",
    "            if distance < 50:\n",
    "                track_ids[id] = (center_x, center_y)\n",
    "                found_id = True\n",
    "                break\n",
    "\n",
    "        # Если ID не найден, создаем новый\n",
    "        if not found_id:\n",
    "            new_id = len(track_ids) + 1\n",
    "            track_ids[new_id] = (center_x, center_y)\n",
    "\n",
    "    # Рисуем прямоугольники и ID\n",
    "    for id, (center_x, center_y) in track_ids.items():\n",
    "        # Находим соответствующую детекцию\n",
    "        for det in detections:\n",
    "            x1, y1, x2, y2 = det\n",
    "            if (x1 < center_x < x2) and (y1 < center_y < y2):\n",
    "                cv2.rectangle(frame, (x1, y1), (x2, y2), (0, 255, 0), 2)\n",
    "                cv2.putText(frame, f\"ID: {id}\", (x1, y1 - 10), cv2.FONT_HERSHEY_SIMPLEX, 0.5, (0, 255, 0), 2)\n",
    "\n",
    "    # Выводим кадр\n",
    "    cv2.imshow(\"Video\", frame)\n",
    "\n",
    "    # Увеличиваем счетчик кадров\n",
    "    frame_count += 1\n",
    "\n",
    "    # Выход из цикла при нажатии клавиши 'q'\n",
    "    if cv2.waitKey(1) & 0xFF == ord('q'):\n",
    "        break\n",
    "\n",
    "# Освобождаем ресурсы\n",
    "cap.release()\n",
    "cv2.destroyAllWindows()"
   ]
  }
 ],
 "metadata": {
  "kernelspec": {
   "display_name": "Python 3",
   "language": "python",
   "name": "python3"
  },
  "language_info": {
   "codemirror_mode": {
    "name": "ipython",
    "version": 3
   },
   "file_extension": ".py",
   "mimetype": "text/x-python",
   "name": "python",
   "nbconvert_exporter": "python",
   "pygments_lexer": "ipython3",
   "version": "3.12.1"
  }
 },
 "nbformat": 4,
 "nbformat_minor": 2
}
